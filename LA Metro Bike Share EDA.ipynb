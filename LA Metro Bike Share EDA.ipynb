{
 "cells": [
  {
   "cell_type": "code",
   "execution_count": 33,
   "metadata": {},
   "outputs": [
    {
     "data": {
      "text/html": [
       "<div>\n",
       "<style scoped>\n",
       "    .dataframe tbody tr th:only-of-type {\n",
       "        vertical-align: middle;\n",
       "    }\n",
       "\n",
       "    .dataframe tbody tr th {\n",
       "        vertical-align: top;\n",
       "    }\n",
       "\n",
       "    .dataframe thead th {\n",
       "        text-align: right;\n",
       "    }\n",
       "</style>\n",
       "<table border=\"1\" class=\"dataframe\">\n",
       "  <thead>\n",
       "    <tr style=\"text-align: right;\">\n",
       "      <th></th>\n",
       "      <th>trip_id</th>\n",
       "      <th>duration</th>\n",
       "      <th>start_time</th>\n",
       "      <th>end_time</th>\n",
       "      <th>start_station</th>\n",
       "      <th>start_lat</th>\n",
       "      <th>start_lon</th>\n",
       "      <th>end_station</th>\n",
       "      <th>end_lat</th>\n",
       "      <th>end_lon</th>\n",
       "      <th>bike_id</th>\n",
       "      <th>plan_duration</th>\n",
       "      <th>trip_route_category</th>\n",
       "      <th>passholder_type</th>\n",
       "      <th>bike_type</th>\n",
       "    </tr>\n",
       "  </thead>\n",
       "  <tbody>\n",
       "    <tr>\n",
       "      <th>0</th>\n",
       "      <td>134867493</td>\n",
       "      <td>25</td>\n",
       "      <td>1/1/2020 0:16</td>\n",
       "      <td>1/1/2020 0:41</td>\n",
       "      <td>3063</td>\n",
       "      <td>34.048038</td>\n",
       "      <td>-118.253738</td>\n",
       "      <td>4491</td>\n",
       "      <td>34.047440</td>\n",
       "      <td>-118.247940</td>\n",
       "      <td>18419</td>\n",
       "      <td>30</td>\n",
       "      <td>One Way</td>\n",
       "      <td>Monthly Pass</td>\n",
       "      <td>electric</td>\n",
       "    </tr>\n",
       "    <tr>\n",
       "      <th>1</th>\n",
       "      <td>134867799</td>\n",
       "      <td>35</td>\n",
       "      <td>1/1/2020 0:24</td>\n",
       "      <td>1/1/2020 0:59</td>\n",
       "      <td>4285</td>\n",
       "      <td>NaN</td>\n",
       "      <td>NaN</td>\n",
       "      <td>4354</td>\n",
       "      <td>34.017681</td>\n",
       "      <td>-118.409081</td>\n",
       "      <td>15661</td>\n",
       "      <td>1</td>\n",
       "      <td>One Way</td>\n",
       "      <td>One Day Pass</td>\n",
       "      <td>smart</td>\n",
       "    </tr>\n",
       "    <tr>\n",
       "      <th>2</th>\n",
       "      <td>134868104</td>\n",
       "      <td>37</td>\n",
       "      <td>1/1/2020 0:31</td>\n",
       "      <td>1/1/2020 1:08</td>\n",
       "      <td>4344</td>\n",
       "      <td>34.014309</td>\n",
       "      <td>-118.491341</td>\n",
       "      <td>4322</td>\n",
       "      <td>34.005871</td>\n",
       "      <td>-118.429161</td>\n",
       "      <td>15848</td>\n",
       "      <td>1</td>\n",
       "      <td>One Way</td>\n",
       "      <td>Walk-up</td>\n",
       "      <td>smart</td>\n",
       "    </tr>\n",
       "    <tr>\n",
       "      <th>3</th>\n",
       "      <td>134868103</td>\n",
       "      <td>36</td>\n",
       "      <td>1/1/2020 0:32</td>\n",
       "      <td>1/1/2020 1:08</td>\n",
       "      <td>4344</td>\n",
       "      <td>34.014309</td>\n",
       "      <td>-118.491341</td>\n",
       "      <td>4322</td>\n",
       "      <td>34.005871</td>\n",
       "      <td>-118.429161</td>\n",
       "      <td>16053</td>\n",
       "      <td>1</td>\n",
       "      <td>One Way</td>\n",
       "      <td>Walk-up</td>\n",
       "      <td>smart</td>\n",
       "    </tr>\n",
       "    <tr>\n",
       "      <th>4</th>\n",
       "      <td>134868102</td>\n",
       "      <td>35</td>\n",
       "      <td>1/1/2020 0:33</td>\n",
       "      <td>1/1/2020 1:08</td>\n",
       "      <td>4344</td>\n",
       "      <td>34.014309</td>\n",
       "      <td>-118.491341</td>\n",
       "      <td>4322</td>\n",
       "      <td>34.005871</td>\n",
       "      <td>-118.429161</td>\n",
       "      <td>15694</td>\n",
       "      <td>1</td>\n",
       "      <td>One Way</td>\n",
       "      <td>Walk-up</td>\n",
       "      <td>smart</td>\n",
       "    </tr>\n",
       "    <tr>\n",
       "      <th>...</th>\n",
       "      <td>...</td>\n",
       "      <td>...</td>\n",
       "      <td>...</td>\n",
       "      <td>...</td>\n",
       "      <td>...</td>\n",
       "      <td>...</td>\n",
       "      <td>...</td>\n",
       "      <td>...</td>\n",
       "      <td>...</td>\n",
       "      <td>...</td>\n",
       "      <td>...</td>\n",
       "      <td>...</td>\n",
       "      <td>...</td>\n",
       "      <td>...</td>\n",
       "      <td>...</td>\n",
       "    </tr>\n",
       "    <tr>\n",
       "      <th>76386</th>\n",
       "      <td>140275195</td>\n",
       "      <td>65</td>\n",
       "      <td>3/31/2020 22:48</td>\n",
       "      <td>3/31/2020 23:53</td>\n",
       "      <td>4460</td>\n",
       "      <td>33.994850</td>\n",
       "      <td>-118.417961</td>\n",
       "      <td>4460</td>\n",
       "      <td>33.994850</td>\n",
       "      <td>-118.417961</td>\n",
       "      <td>15300</td>\n",
       "      <td>30</td>\n",
       "      <td>Round Trip</td>\n",
       "      <td>Monthly Pass</td>\n",
       "      <td>smart</td>\n",
       "    </tr>\n",
       "    <tr>\n",
       "      <th>76387</th>\n",
       "      <td>140274593</td>\n",
       "      <td>23</td>\n",
       "      <td>3/31/2020 23:00</td>\n",
       "      <td>3/31/2020 23:23</td>\n",
       "      <td>3076</td>\n",
       "      <td>34.040600</td>\n",
       "      <td>-118.253838</td>\n",
       "      <td>3031</td>\n",
       "      <td>34.044701</td>\n",
       "      <td>-118.252441</td>\n",
       "      <td>16811</td>\n",
       "      <td>30</td>\n",
       "      <td>One Way</td>\n",
       "      <td>Monthly Pass</td>\n",
       "      <td>electric</td>\n",
       "    </tr>\n",
       "    <tr>\n",
       "      <th>76388</th>\n",
       "      <td>140274893</td>\n",
       "      <td>14</td>\n",
       "      <td>3/31/2020 23:23</td>\n",
       "      <td>3/31/2020 23:37</td>\n",
       "      <td>3031</td>\n",
       "      <td>34.044701</td>\n",
       "      <td>-118.252441</td>\n",
       "      <td>3076</td>\n",
       "      <td>34.040600</td>\n",
       "      <td>-118.253838</td>\n",
       "      <td>16811</td>\n",
       "      <td>30</td>\n",
       "      <td>One Way</td>\n",
       "      <td>Monthly Pass</td>\n",
       "      <td>electric</td>\n",
       "    </tr>\n",
       "    <tr>\n",
       "      <th>76389</th>\n",
       "      <td>140275293</td>\n",
       "      <td>21</td>\n",
       "      <td>3/31/2020 23:37</td>\n",
       "      <td>3/31/2020 23:58</td>\n",
       "      <td>3076</td>\n",
       "      <td>34.040600</td>\n",
       "      <td>-118.253838</td>\n",
       "      <td>3056</td>\n",
       "      <td>34.037460</td>\n",
       "      <td>-118.265381</td>\n",
       "      <td>16811</td>\n",
       "      <td>30</td>\n",
       "      <td>One Way</td>\n",
       "      <td>Monthly Pass</td>\n",
       "      <td>electric</td>\n",
       "    </tr>\n",
       "    <tr>\n",
       "      <th>76390</th>\n",
       "      <td>140275894</td>\n",
       "      <td>23</td>\n",
       "      <td>3/31/2020 23:59</td>\n",
       "      <td>4/1/2020 0:22</td>\n",
       "      <td>3056</td>\n",
       "      <td>34.037460</td>\n",
       "      <td>-118.265381</td>\n",
       "      <td>3076</td>\n",
       "      <td>34.040600</td>\n",
       "      <td>-118.253838</td>\n",
       "      <td>18942</td>\n",
       "      <td>30</td>\n",
       "      <td>One Way</td>\n",
       "      <td>Monthly Pass</td>\n",
       "      <td>electric</td>\n",
       "    </tr>\n",
       "  </tbody>\n",
       "</table>\n",
       "<p>76391 rows × 15 columns</p>\n",
       "</div>"
      ],
      "text/plain": [
       "         trip_id  duration       start_time         end_time  start_station  \\\n",
       "0      134867493        25    1/1/2020 0:16    1/1/2020 0:41           3063   \n",
       "1      134867799        35    1/1/2020 0:24    1/1/2020 0:59           4285   \n",
       "2      134868104        37    1/1/2020 0:31    1/1/2020 1:08           4344   \n",
       "3      134868103        36    1/1/2020 0:32    1/1/2020 1:08           4344   \n",
       "4      134868102        35    1/1/2020 0:33    1/1/2020 1:08           4344   \n",
       "...          ...       ...              ...              ...            ...   \n",
       "76386  140275195        65  3/31/2020 22:48  3/31/2020 23:53           4460   \n",
       "76387  140274593        23  3/31/2020 23:00  3/31/2020 23:23           3076   \n",
       "76388  140274893        14  3/31/2020 23:23  3/31/2020 23:37           3031   \n",
       "76389  140275293        21  3/31/2020 23:37  3/31/2020 23:58           3076   \n",
       "76390  140275894        23  3/31/2020 23:59    4/1/2020 0:22           3056   \n",
       "\n",
       "       start_lat   start_lon  end_station    end_lat     end_lon  bike_id  \\\n",
       "0      34.048038 -118.253738         4491  34.047440 -118.247940    18419   \n",
       "1            NaN         NaN         4354  34.017681 -118.409081    15661   \n",
       "2      34.014309 -118.491341         4322  34.005871 -118.429161    15848   \n",
       "3      34.014309 -118.491341         4322  34.005871 -118.429161    16053   \n",
       "4      34.014309 -118.491341         4322  34.005871 -118.429161    15694   \n",
       "...          ...         ...          ...        ...         ...      ...   \n",
       "76386  33.994850 -118.417961         4460  33.994850 -118.417961    15300   \n",
       "76387  34.040600 -118.253838         3031  34.044701 -118.252441    16811   \n",
       "76388  34.044701 -118.252441         3076  34.040600 -118.253838    16811   \n",
       "76389  34.040600 -118.253838         3056  34.037460 -118.265381    16811   \n",
       "76390  34.037460 -118.265381         3076  34.040600 -118.253838    18942   \n",
       "\n",
       "       plan_duration trip_route_category passholder_type bike_type  \n",
       "0                 30             One Way    Monthly Pass  electric  \n",
       "1                  1             One Way    One Day Pass     smart  \n",
       "2                  1             One Way         Walk-up     smart  \n",
       "3                  1             One Way         Walk-up     smart  \n",
       "4                  1             One Way         Walk-up     smart  \n",
       "...              ...                 ...             ...       ...  \n",
       "76386             30          Round Trip    Monthly Pass     smart  \n",
       "76387             30             One Way    Monthly Pass  electric  \n",
       "76388             30             One Way    Monthly Pass  electric  \n",
       "76389             30             One Way    Monthly Pass  electric  \n",
       "76390             30             One Way    Monthly Pass  electric  \n",
       "\n",
       "[76391 rows x 15 columns]"
      ]
     },
     "execution_count": 33,
     "metadata": {},
     "output_type": "execute_result"
    }
   ],
   "source": [
    "import pandas as pd\n",
    "import numpy as np\n",
    "import matplotlib\n",
    "import matplotlib.pyplot as plt\n",
    "%matplotlib inline\n",
    "\n",
    "trips_df = pd.read_csv(\"BikeShare/metro-bike-share-trips-2020-q1.csv\")\n",
    "trips_df"
   ]
  },
  {
   "cell_type": "markdown",
   "metadata": {},
   "source": [
    "Here we describe the duration, arguably the most important attirubte.\n",
    "\n",
    "The average ride is about 24 minutes. At least 75% of riders are riding at or under 20 minutes."
   ]
  },
  {
   "cell_type": "code",
   "execution_count": 34,
   "metadata": {},
   "outputs": [
    {
     "data": {
      "text/plain": [
       "count    76391.000000\n",
       "mean        23.976607\n",
       "std         92.979710\n",
       "min          1.000000\n",
       "25%          6.000000\n",
       "50%         11.000000\n",
       "75%         20.000000\n",
       "max       1440.000000\n",
       "Name: duration, dtype: float64"
      ]
     },
     "execution_count": 34,
     "metadata": {},
     "output_type": "execute_result"
    }
   ],
   "source": [
    "trips_df[\"duration\"].describe()"
   ]
  },
  {
   "cell_type": "markdown",
   "metadata": {},
   "source": [
    "I will show the distances the bikes traveled.\n",
    "\n",
    "Let's create a df that will hold the distance."
   ]
  },
  {
   "cell_type": "code",
   "execution_count": 39,
   "metadata": {},
   "outputs": [
    {
     "data": {
      "text/html": [
       "<div>\n",
       "<style scoped>\n",
       "    .dataframe tbody tr th:only-of-type {\n",
       "        vertical-align: middle;\n",
       "    }\n",
       "\n",
       "    .dataframe tbody tr th {\n",
       "        vertical-align: top;\n",
       "    }\n",
       "\n",
       "    .dataframe thead th {\n",
       "        text-align: right;\n",
       "    }\n",
       "</style>\n",
       "<table border=\"1\" class=\"dataframe\">\n",
       "  <thead>\n",
       "    <tr style=\"text-align: right;\">\n",
       "      <th></th>\n",
       "      <th>distance</th>\n",
       "    </tr>\n",
       "  </thead>\n",
       "  <tbody>\n",
       "  </tbody>\n",
       "</table>\n",
       "</div>"
      ],
      "text/plain": [
       "Empty DataFrame\n",
       "Columns: [distance]\n",
       "Index: []"
      ]
     },
     "execution_count": 39,
     "metadata": {},
     "output_type": "execute_result"
    }
   ],
   "source": [
    "distance_df = pd.DataFrame(columns = ['distance'])\n",
    "distance_df"
   ]
  },
  {
   "cell_type": "markdown",
   "metadata": {},
   "source": [
    "Here I get the distance by using the latitude and longitude"
   ]
  },
  {
   "cell_type": "code",
   "execution_count": 40,
   "metadata": {},
   "outputs": [
    {
     "data": {
      "text/html": [
       "<div>\n",
       "<style scoped>\n",
       "    .dataframe tbody tr th:only-of-type {\n",
       "        vertical-align: middle;\n",
       "    }\n",
       "\n",
       "    .dataframe tbody tr th {\n",
       "        vertical-align: top;\n",
       "    }\n",
       "\n",
       "    .dataframe thead th {\n",
       "        text-align: right;\n",
       "    }\n",
       "</style>\n",
       "<table border=\"1\" class=\"dataframe\">\n",
       "  <thead>\n",
       "    <tr style=\"text-align: right;\">\n",
       "      <th></th>\n",
       "      <th>distance</th>\n",
       "    </tr>\n",
       "  </thead>\n",
       "  <tbody>\n",
       "    <tr>\n",
       "      <th>0</th>\n",
       "      <td>0.334849</td>\n",
       "    </tr>\n",
       "    <tr>\n",
       "      <th>1</th>\n",
       "      <td>NaN</td>\n",
       "    </tr>\n",
       "    <tr>\n",
       "      <th>2</th>\n",
       "      <td>3.612582</td>\n",
       "    </tr>\n",
       "    <tr>\n",
       "      <th>3</th>\n",
       "      <td>3.612582</td>\n",
       "    </tr>\n",
       "    <tr>\n",
       "      <th>4</th>\n",
       "      <td>3.612582</td>\n",
       "    </tr>\n",
       "    <tr>\n",
       "      <th>...</th>\n",
       "      <td>...</td>\n",
       "    </tr>\n",
       "    <tr>\n",
       "      <th>76386</th>\n",
       "      <td>0.000000</td>\n",
       "    </tr>\n",
       "    <tr>\n",
       "      <th>76387</th>\n",
       "      <td>0.294739</td>\n",
       "    </tr>\n",
       "    <tr>\n",
       "      <th>76388</th>\n",
       "      <td>0.294739</td>\n",
       "    </tr>\n",
       "    <tr>\n",
       "      <th>76389</th>\n",
       "      <td>0.696335</td>\n",
       "    </tr>\n",
       "    <tr>\n",
       "      <th>76390</th>\n",
       "      <td>0.696335</td>\n",
       "    </tr>\n",
       "  </tbody>\n",
       "</table>\n",
       "<p>76391 rows × 1 columns</p>\n",
       "</div>"
      ],
      "text/plain": [
       "       distance\n",
       "0      0.334849\n",
       "1           NaN\n",
       "2      3.612582\n",
       "3      3.612582\n",
       "4      3.612582\n",
       "...         ...\n",
       "76386  0.000000\n",
       "76387  0.294739\n",
       "76388  0.294739\n",
       "76389  0.696335\n",
       "76390  0.696335\n",
       "\n",
       "[76391 rows x 1 columns]"
      ]
     },
     "execution_count": 40,
     "metadata": {},
     "output_type": "execute_result"
    }
   ],
   "source": [
    "from math import sin, cos, sqrt, atan2, radians\n",
    "\n",
    "\n",
    "# approximate radius of earth in km\n",
    "R = 3963\n",
    "\n",
    "for index, trip in trips_df.iterrows():\n",
    "    lat1 = radians(trip[\"start_lat\"])\n",
    "    lon1 = radians(trip[\"start_lon\"])\n",
    "    lat2 = radians(trip[\"end_lat\"])\n",
    "    lon2 = radians(trip[\"end_lon\"])\n",
    "\n",
    "    dlon = lon2 - lon1\n",
    "    dlat = lat2 - lat1\n",
    "\n",
    "    a = sin(dlat / 2)**2 + cos(lat1) * cos(lat2) * sin(dlon / 2)**2\n",
    "    c = 2 * atan2(sqrt(a), sqrt(1 - a))\n",
    "\n",
    "    distance = R * c\n",
    "    \n",
    "    new_item = {'distance' : distance}\n",
    "    \n",
    "    distance_df = distance_df.append(new_item, ignore_index=True)\n",
    "\n",
    "distance_df"
   ]
  },
  {
   "cell_type": "markdown",
   "metadata": {},
   "source": [
    "I drop distances that are 0 and describe the data.\n",
    "\n",
    "Here I can see the average ride is about 0.87 miles and 75% of riders ride 1.1 miles or less."
   ]
  },
  {
   "cell_type": "code",
   "execution_count": 43,
   "metadata": {},
   "outputs": [
    {
     "data": {
      "text/html": [
       "<div>\n",
       "<style scoped>\n",
       "    .dataframe tbody tr th:only-of-type {\n",
       "        vertical-align: middle;\n",
       "    }\n",
       "\n",
       "    .dataframe tbody tr th {\n",
       "        vertical-align: top;\n",
       "    }\n",
       "\n",
       "    .dataframe thead th {\n",
       "        text-align: right;\n",
       "    }\n",
       "</style>\n",
       "<table border=\"1\" class=\"dataframe\">\n",
       "  <thead>\n",
       "    <tr style=\"text-align: right;\">\n",
       "      <th></th>\n",
       "      <th>distance</th>\n",
       "    </tr>\n",
       "  </thead>\n",
       "  <tbody>\n",
       "    <tr>\n",
       "      <th>count</th>\n",
       "      <td>64027.000000</td>\n",
       "    </tr>\n",
       "    <tr>\n",
       "      <th>mean</th>\n",
       "      <td>0.870252</td>\n",
       "    </tr>\n",
       "    <tr>\n",
       "      <th>std</th>\n",
       "      <td>0.687405</td>\n",
       "    </tr>\n",
       "    <tr>\n",
       "      <th>min</th>\n",
       "      <td>0.066352</td>\n",
       "    </tr>\n",
       "    <tr>\n",
       "      <th>25%</th>\n",
       "      <td>0.425216</td>\n",
       "    </tr>\n",
       "    <tr>\n",
       "      <th>50%</th>\n",
       "      <td>0.665789</td>\n",
       "    </tr>\n",
       "    <tr>\n",
       "      <th>75%</th>\n",
       "      <td>1.112903</td>\n",
       "    </tr>\n",
       "    <tr>\n",
       "      <th>max</th>\n",
       "      <td>11.638144</td>\n",
       "    </tr>\n",
       "  </tbody>\n",
       "</table>\n",
       "</div>"
      ],
      "text/plain": [
       "           distance\n",
       "count  64027.000000\n",
       "mean       0.870252\n",
       "std        0.687405\n",
       "min        0.066352\n",
       "25%        0.425216\n",
       "50%        0.665789\n",
       "75%        1.112903\n",
       "max       11.638144"
      ]
     },
     "execution_count": 43,
     "metadata": {},
     "output_type": "execute_result"
    }
   ],
   "source": [
    "# Get names of indexes for which column Age has value 30\n",
    "indexZero = distance_df[ distance_df['distance'] == 0 ].index\n",
    "# Delete these row indexes from dataFrame\n",
    "distance_df.drop(indexZero , inplace=True)\n",
    "\n",
    "distance_df.drop\n",
    "distance_df.describe()"
   ]
  },
  {
   "cell_type": "markdown",
   "metadata": {},
   "source": [
    "Let's see the relationship between passholde type and bike type."
   ]
  },
  {
   "cell_type": "code",
   "execution_count": 22,
   "metadata": {},
   "outputs": [
    {
     "data": {
      "text/plain": [
       "<matplotlib.axes._subplots.AxesSubplot at 0x7fbaa2706850>"
      ]
     },
     "execution_count": 22,
     "metadata": {},
     "output_type": "execute_result"
    },
    {
     "data": {
      "image/png": "[encoded data removed]",
      "text/plain": [
       "<Figure size 432x288 with 1 Axes>"
      ]
     },
     "metadata": {
      "needs_background": "light"
     },
     "output_type": "display_data"
    }
   ],
   "source": [
    "trips_df.groupby(\"passholder_type\")[\"bike_type\"].value_counts().unstack().plot.bar()"
   ]
  },
  {
   "cell_type": "markdown",
   "metadata": {},
   "source": [
    "Monthly pass users rode electric bikes more often than others.\n",
    "\n",
    "Furthermore, monthly pass users clearly outnumber all other types of users."
   ]
  },
  {
   "cell_type": "markdown",
   "metadata": {},
   "source": [
    "Let's also see the relationship between passholder type and trip route category"
   ]
  },
  {
   "cell_type": "code",
   "execution_count": 51,
   "metadata": {},
   "outputs": [
    {
     "data": {
      "text/plain": [
       "<matplotlib.axes._subplots.AxesSubplot at 0x7fba8cdd1390>"
      ]
     },
     "execution_count": 51,
     "metadata": {},
     "output_type": "execute_result"
    },
    {
     "data": {
      "image/png": "[encoded data removed]",
      "text/plain": [
       "<Figure size 432x288 with 1 Axes>"
      ]
     },
     "metadata": {
      "needs_background": "light"
     },
     "output_type": "display_data"
    }
   ],
   "source": [
    "trips_df.groupby(\"passholder_type\")[\"trip_route_category\"].value_counts().unstack().plot.bar()"
   ]
  },
  {
   "cell_type": "markdown",
   "metadata": {},
   "source": [
    "This EDA is relatively short, however, I visualize the arrival and departures in \"LA Metro Bike Share Visaualizatons.ipynb\""
   ]
  }
 ],
 "metadata": {
  "kernelspec": {
   "display_name": "Python 3",
   "language": "python",
   "name": "python3"
  },
  "language_info": {
   "codemirror_mode": {
    "name": "ipython",
    "version": 3
   },
   "file_extension": ".py",
   "mimetype": "text/x-python",
   "name": "python",
   "nbconvert_exporter": "python",
   "pygments_lexer": "ipython3",
   "version": "3.7.6"
  }
 },
 "nbformat": 4,
 "nbformat_minor": 4
}
