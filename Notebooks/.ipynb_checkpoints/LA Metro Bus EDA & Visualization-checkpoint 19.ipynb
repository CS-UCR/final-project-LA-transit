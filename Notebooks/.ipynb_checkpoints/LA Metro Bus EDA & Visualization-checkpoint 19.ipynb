{
 "cells": [
  {
   "cell_type": "markdown",
   "metadata": {},
   "source": [
    "# LA Metro Bus EDA and Visualization\n",
    "We have a cleaned dataset (which was gathered with the LA Metro API), so let's analyze it"
   ]
  },
  {
   "cell_type": "markdown",
   "metadata": {},
   "source": [
    "## Introduction"
   ]
  },
  {
   "cell_type": "code",
   "execution_count": 2,
   "metadata": {},
   "outputs": [],
   "source": [
    "import pandas as pd\n",
    "import io\n",
    "from PIL import Image, ImageDraw, ImageFont\n",
    "import matplotlib\n",
    "import folium\n",
    "import os\n",
    "from matplotlib import pyplot as plt\n",
    "from folium.plugins import HeatMap\n",
    "import glob\n",
    "from natsort import natsorted, ns\n",
    "from PIL import Image\n",
    "%matplotlib inline"
   ]
  },
  {
   "cell_type": "code",
   "execution_count": 3,
   "metadata": {},
   "outputs": [
    {
     "ename": "FileNotFoundError",
     "evalue": "[Errno 2] No such file or directory: '../Bus Data/[Cleaned] LA Metro Bus Data.csv'",
     "output_type": "error",
     "traceback": [
      "\u001b[0;31m---------------------------------------------------------------------------\u001b[0m",
      "\u001b[0;31mFileNotFoundError\u001b[0m                         Traceback (most recent call last)",
      "\u001b[0;32m<ipython-input-3-03b7e2c3e217>\u001b[0m in \u001b[0;36m<module>\u001b[0;34m\u001b[0m\n\u001b[0;32m----> 1\u001b[0;31m \u001b[0mbus_df\u001b[0m \u001b[0;34m=\u001b[0m \u001b[0mpd\u001b[0m\u001b[0;34m.\u001b[0m\u001b[0mread_csv\u001b[0m\u001b[0;34m(\u001b[0m\u001b[0;34m\"../Bus Data/[Cleaned] LA Metro Bus Data.csv\"\u001b[0m\u001b[0;34m)\u001b[0m\u001b[0;34m\u001b[0m\u001b[0;34m\u001b[0m\u001b[0m\n\u001b[0m\u001b[1;32m      2\u001b[0m \u001b[0mbus_df\u001b[0m\u001b[0;34m\u001b[0m\u001b[0;34m\u001b[0m\u001b[0m\n",
      "\u001b[0;32m~/opt/anaconda3/lib/python3.8/site-packages/pandas/io/parsers.py\u001b[0m in \u001b[0;36mread_csv\u001b[0;34m(filepath_or_buffer, sep, delimiter, header, names, index_col, usecols, squeeze, prefix, mangle_dupe_cols, dtype, engine, converters, true_values, false_values, skipinitialspace, skiprows, skipfooter, nrows, na_values, keep_default_na, na_filter, verbose, skip_blank_lines, parse_dates, infer_datetime_format, keep_date_col, date_parser, dayfirst, cache_dates, iterator, chunksize, compression, thousands, decimal, lineterminator, quotechar, quoting, doublequote, escapechar, comment, encoding, dialect, error_bad_lines, warn_bad_lines, delim_whitespace, low_memory, memory_map, float_precision)\u001b[0m\n\u001b[1;32m    684\u001b[0m     )\n\u001b[1;32m    685\u001b[0m \u001b[0;34m\u001b[0m\u001b[0m\n\u001b[0;32m--> 686\u001b[0;31m     \u001b[0;32mreturn\u001b[0m \u001b[0m_read\u001b[0m\u001b[0;34m(\u001b[0m\u001b[0mfilepath_or_buffer\u001b[0m\u001b[0;34m,\u001b[0m \u001b[0mkwds\u001b[0m\u001b[0;34m)\u001b[0m\u001b[0;34m\u001b[0m\u001b[0;34m\u001b[0m\u001b[0m\n\u001b[0m\u001b[1;32m    687\u001b[0m \u001b[0;34m\u001b[0m\u001b[0m\n\u001b[1;32m    688\u001b[0m \u001b[0;34m\u001b[0m\u001b[0m\n",
      "\u001b[0;32m~/opt/anaconda3/lib/python3.8/site-packages/pandas/io/parsers.py\u001b[0m in \u001b[0;36m_read\u001b[0;34m(filepath_or_buffer, kwds)\u001b[0m\n\u001b[1;32m    450\u001b[0m \u001b[0;34m\u001b[0m\u001b[0m\n\u001b[1;32m    451\u001b[0m     \u001b[0;31m# Create the parser.\u001b[0m\u001b[0;34m\u001b[0m\u001b[0;34m\u001b[0m\u001b[0;34m\u001b[0m\u001b[0m\n\u001b[0;32m--> 452\u001b[0;31m     \u001b[0mparser\u001b[0m \u001b[0;34m=\u001b[0m \u001b[0mTextFileReader\u001b[0m\u001b[0;34m(\u001b[0m\u001b[0mfp_or_buf\u001b[0m\u001b[0;34m,\u001b[0m \u001b[0;34m**\u001b[0m\u001b[0mkwds\u001b[0m\u001b[0;34m)\u001b[0m\u001b[0;34m\u001b[0m\u001b[0;34m\u001b[0m\u001b[0m\n\u001b[0m\u001b[1;32m    453\u001b[0m \u001b[0;34m\u001b[0m\u001b[0m\n\u001b[1;32m    454\u001b[0m     \u001b[0;32mif\u001b[0m \u001b[0mchunksize\u001b[0m \u001b[0;32mor\u001b[0m \u001b[0miterator\u001b[0m\u001b[0;34m:\u001b[0m\u001b[0;34m\u001b[0m\u001b[0;34m\u001b[0m\u001b[0m\n",
      "\u001b[0;32m~/opt/anaconda3/lib/python3.8/site-packages/pandas/io/parsers.py\u001b[0m in \u001b[0;36m__init__\u001b[0;34m(self, f, engine, **kwds)\u001b[0m\n\u001b[1;32m    944\u001b[0m             \u001b[0mself\u001b[0m\u001b[0;34m.\u001b[0m\u001b[0moptions\u001b[0m\u001b[0;34m[\u001b[0m\u001b[0;34m\"has_index_names\"\u001b[0m\u001b[0;34m]\u001b[0m \u001b[0;34m=\u001b[0m \u001b[0mkwds\u001b[0m\u001b[0;34m[\u001b[0m\u001b[0;34m\"has_index_names\"\u001b[0m\u001b[0;34m]\u001b[0m\u001b[0;34m\u001b[0m\u001b[0;34m\u001b[0m\u001b[0m\n\u001b[1;32m    945\u001b[0m \u001b[0;34m\u001b[0m\u001b[0m\n\u001b[0;32m--> 946\u001b[0;31m         \u001b[0mself\u001b[0m\u001b[0;34m.\u001b[0m\u001b[0m_make_engine\u001b[0m\u001b[0;34m(\u001b[0m\u001b[0mself\u001b[0m\u001b[0;34m.\u001b[0m\u001b[0mengine\u001b[0m\u001b[0;34m)\u001b[0m\u001b[0;34m\u001b[0m\u001b[0;34m\u001b[0m\u001b[0m\n\u001b[0m\u001b[1;32m    947\u001b[0m \u001b[0;34m\u001b[0m\u001b[0m\n\u001b[1;32m    948\u001b[0m     \u001b[0;32mdef\u001b[0m \u001b[0mclose\u001b[0m\u001b[0;34m(\u001b[0m\u001b[0mself\u001b[0m\u001b[0;34m)\u001b[0m\u001b[0;34m:\u001b[0m\u001b[0;34m\u001b[0m\u001b[0;34m\u001b[0m\u001b[0m\n",
      "\u001b[0;32m~/opt/anaconda3/lib/python3.8/site-packages/pandas/io/parsers.py\u001b[0m in \u001b[0;36m_make_engine\u001b[0;34m(self, engine)\u001b[0m\n\u001b[1;32m   1176\u001b[0m     \u001b[0;32mdef\u001b[0m \u001b[0m_make_engine\u001b[0m\u001b[0;34m(\u001b[0m\u001b[0mself\u001b[0m\u001b[0;34m,\u001b[0m \u001b[0mengine\u001b[0m\u001b[0;34m=\u001b[0m\u001b[0;34m\"c\"\u001b[0m\u001b[0;34m)\u001b[0m\u001b[0;34m:\u001b[0m\u001b[0;34m\u001b[0m\u001b[0;34m\u001b[0m\u001b[0m\n\u001b[1;32m   1177\u001b[0m         \u001b[0;32mif\u001b[0m \u001b[0mengine\u001b[0m \u001b[0;34m==\u001b[0m \u001b[0;34m\"c\"\u001b[0m\u001b[0;34m:\u001b[0m\u001b[0;34m\u001b[0m\u001b[0;34m\u001b[0m\u001b[0m\n\u001b[0;32m-> 1178\u001b[0;31m             \u001b[0mself\u001b[0m\u001b[0;34m.\u001b[0m\u001b[0m_engine\u001b[0m \u001b[0;34m=\u001b[0m \u001b[0mCParserWrapper\u001b[0m\u001b[0;34m(\u001b[0m\u001b[0mself\u001b[0m\u001b[0;34m.\u001b[0m\u001b[0mf\u001b[0m\u001b[0;34m,\u001b[0m \u001b[0;34m**\u001b[0m\u001b[0mself\u001b[0m\u001b[0;34m.\u001b[0m\u001b[0moptions\u001b[0m\u001b[0;34m)\u001b[0m\u001b[0;34m\u001b[0m\u001b[0;34m\u001b[0m\u001b[0m\n\u001b[0m\u001b[1;32m   1179\u001b[0m         \u001b[0;32melse\u001b[0m\u001b[0;34m:\u001b[0m\u001b[0;34m\u001b[0m\u001b[0;34m\u001b[0m\u001b[0m\n\u001b[1;32m   1180\u001b[0m             \u001b[0;32mif\u001b[0m \u001b[0mengine\u001b[0m \u001b[0;34m==\u001b[0m \u001b[0;34m\"python\"\u001b[0m\u001b[0;34m:\u001b[0m\u001b[0;34m\u001b[0m\u001b[0;34m\u001b[0m\u001b[0m\n",
      "\u001b[0;32m~/opt/anaconda3/lib/python3.8/site-packages/pandas/io/parsers.py\u001b[0m in \u001b[0;36m__init__\u001b[0;34m(self, src, **kwds)\u001b[0m\n\u001b[1;32m   2006\u001b[0m         \u001b[0mkwds\u001b[0m\u001b[0;34m[\u001b[0m\u001b[0;34m\"usecols\"\u001b[0m\u001b[0;34m]\u001b[0m \u001b[0;34m=\u001b[0m \u001b[0mself\u001b[0m\u001b[0;34m.\u001b[0m\u001b[0musecols\u001b[0m\u001b[0;34m\u001b[0m\u001b[0;34m\u001b[0m\u001b[0m\n\u001b[1;32m   2007\u001b[0m \u001b[0;34m\u001b[0m\u001b[0m\n\u001b[0;32m-> 2008\u001b[0;31m         \u001b[0mself\u001b[0m\u001b[0;34m.\u001b[0m\u001b[0m_reader\u001b[0m \u001b[0;34m=\u001b[0m \u001b[0mparsers\u001b[0m\u001b[0;34m.\u001b[0m\u001b[0mTextReader\u001b[0m\u001b[0;34m(\u001b[0m\u001b[0msrc\u001b[0m\u001b[0;34m,\u001b[0m \u001b[0;34m**\u001b[0m\u001b[0mkwds\u001b[0m\u001b[0;34m)\u001b[0m\u001b[0;34m\u001b[0m\u001b[0;34m\u001b[0m\u001b[0m\n\u001b[0m\u001b[1;32m   2009\u001b[0m         \u001b[0mself\u001b[0m\u001b[0;34m.\u001b[0m\u001b[0munnamed_cols\u001b[0m \u001b[0;34m=\u001b[0m \u001b[0mself\u001b[0m\u001b[0;34m.\u001b[0m\u001b[0m_reader\u001b[0m\u001b[0;34m.\u001b[0m\u001b[0munnamed_cols\u001b[0m\u001b[0;34m\u001b[0m\u001b[0;34m\u001b[0m\u001b[0m\n\u001b[1;32m   2010\u001b[0m \u001b[0;34m\u001b[0m\u001b[0m\n",
      "\u001b[0;32mpandas/_libs/parsers.pyx\u001b[0m in \u001b[0;36mpandas._libs.parsers.TextReader.__cinit__\u001b[0;34m()\u001b[0m\n",
      "\u001b[0;32mpandas/_libs/parsers.pyx\u001b[0m in \u001b[0;36mpandas._libs.parsers.TextReader._setup_parser_source\u001b[0;34m()\u001b[0m\n",
      "\u001b[0;31mFileNotFoundError\u001b[0m: [Errno 2] No such file or directory: '../Bus Data/[Cleaned] LA Metro Bus Data.csv'"
     ]
    }
   ],
   "source": [
    "bus_df = pd.read_csv(\"../Bus Data/[Cleaned] LA Metro Bus Data.csv\")\n",
    "bus_df"
   ]
  },
  {
   "cell_type": "markdown",
   "metadata": {},
   "source": [
    "Here is our dataset. Below, I will see which day has the most amount of data."
   ]
  },
  {
   "cell_type": "code",
   "execution_count": null,
   "metadata": {},
   "outputs": [],
   "source": [
    "print(bus_df[\"day\"].value_counts())\n",
    "bus_df[\"day\"].value_counts(normalize = True).plot.bar()"
   ]
  },
  {
   "cell_type": "markdown",
   "metadata": {},
   "source": [
    "Above, I can see that the most data avaialble on a given data was Friday. So, let's isolate the data and analyze it."
   ]
  },
  {
   "cell_type": "code",
   "execution_count": null,
   "metadata": {},
   "outputs": [],
   "source": [
    "bus_friday_df = bus_df\n",
    "indexFriday = bus_friday_df[bus_friday_df[\"day\"] != \"Friday\"].index\n",
    "bus_friday_df.drop(indexFriday, inplace = True)\n",
    "bus_friday_df\n",
    "\n",
    "#df.drop(df[df['Age'] < 25].index, inplace = True) "
   ]
  },
  {
   "cell_type": "markdown",
   "metadata": {},
   "source": [
    "Above is the data that was collected on Friday. The data contains 127,737 rows, so there is still a significant amount of data that we can look at."
   ]
  },
  {
   "cell_type": "markdown",
   "metadata": {},
   "source": [
    "## EDA"
   ]
  },
  {
   "cell_type": "code",
   "execution_count": null,
   "metadata": {},
   "outputs": [],
   "source": [
    "bus_friday_df[\"direction\"].unique()"
   ]
  },
  {
   "cell_type": "markdown",
   "metadata": {},
   "source": [
    "Above are the unique directions that a bus can go."
   ]
  },
  {
   "cell_type": "code",
   "execution_count": null,
   "metadata": {},
   "outputs": [],
   "source": [
    "print(bus_friday_df[\"direction\"].value_counts())\n",
    "bus_friday_df[\"direction\"].value_counts(normalize = True).plot.bar()"
   ]
  },
  {
   "cell_type": "markdown",
   "metadata": {},
   "source": [
    "Above is a graph that shows the count of data for each direction. As we can see, the main four directions (South, North, East, West) have about an equal amount of data. Clockwis, Xcounter, and none have significanly lower counts."
   ]
  },
  {
   "cell_type": "code",
   "execution_count": null,
   "metadata": {},
   "outputs": [],
   "source": [
    "bus_friday_df[\"last report\"].describe()"
   ]
  },
  {
   "cell_type": "markdown",
   "metadata": {},
   "source": [
    "The last report column in the dataset represents the most recent time that a specific bus updated its information (the location being the most important) to the API. So, from the above, we can see that the average last reporting time was 63 seconds and at least 75% of the buses had data that was from 93 seconds or earlier."
   ]
  },
  {
   "cell_type": "markdown",
   "metadata": {},
   "source": [
    "Below, I will count the number of times each bus occured and plot it on a bar graph. This will allow us to see all buses from most to least frequent. I am choosing to show the data this way so that each individual bus can be seen with their corresponding frequency rate."
   ]
  },
  {
   "cell_type": "code",
   "execution_count": null,
   "metadata": {},
   "outputs": [],
   "source": [
    "print(bus_friday_df[\"route\"].value_counts())\n",
    "print(bus_friday_df[\"route\"].value_counts(normalize = True))\n",
    "plt.figure(figsize=(75, 50))\n",
    "plt.xticks(size = 20)\n",
    "plt.yticks(size = 50)\n",
    "bus_friday_df[\"route\"].value_counts(normalize = True).plot.bar()"
   ]
  },
  {
   "cell_type": "markdown",
   "metadata": {},
   "source": [
    "Here is our data visualized above. I had expected that the most frequenet lines would be 901 (Orange - Chatsworth to NoHo) and 910 (Silver - El Monte to Downtown to San Pedro). This is because these are BRT lines with at least some dedicated ROW, so I believed that LA Metro would justify this with extremely high frequencies. Instead, our most frequent lines are 51 (Compton to Wilshire/Vermont) and 16 (Downtown LA to Century City) with 720 (Wilshire/Vermont to Santa Monica) more in line with other bus frequencies.\n",
    "\n",
    "\n",
    "Also it's important to note is there is an extension for the purple line that will connect Wilshire/Vermont Station all the way to the VA. Thus, it is likely that the 720 (and 16 in parallel) will become obsolete since it follows this route which is likely what LA Metro wants. Although the 16 and 720 make sense, I have no idea why the 16 is so popular considering that Compton and Wilshire/Vermont are already connected by rail, but I suppose it's the people living along the route that are using it."
   ]
  },
  {
   "cell_type": "code",
   "execution_count": null,
   "metadata": {},
   "outputs": [],
   "source": [
    "print(bus_friday_df[\"hour\"].value_counts())\n",
    "plt.figure(figsize=(75, 50))\n",
    "plt.xticks(size = 20)\n",
    "plt.yticks(size = 20)\n",
    "bus_df[\"hour\"].value_counts(normalize = True).plot.bar()"
   ]
  },
  {
   "cell_type": "markdown",
   "metadata": {},
   "source": [
    "9am is the busiest time of the day"
   ]
  },
  {
   "cell_type": "markdown",
   "metadata": {},
   "source": [
    "## Visualization\n",
    "### Part 1 - LA Metro System Animation"
   ]
  },
  {
   "cell_type": "markdown",
   "metadata": {},
   "source": [
    "Here I've created a function to create a folium map of Los Angeles"
   ]
  },
  {
   "cell_type": "code",
   "execution_count": null,
   "metadata": {},
   "outputs": [],
   "source": [
    "def create_LA_map ():\n",
    "    la_map = folium.Map(location=[34.0522,-118.2437],\n",
    "                                       zoom_start=10,\n",
    "                                       tiles='CartoDB dark_matter')\n",
    "    return la_map\n",
    "\n",
    "create_LA_map()"
   ]
  },
  {
   "cell_type": "code",
   "execution_count": null,
   "metadata": {},
   "outputs": [],
   "source": [
    "def pick_color(direction):\n",
    "    if direction == 'North':\n",
    "        color = 'blue'\n",
    "    elif direction == 'East':\n",
    "        color = 'yellow'\n",
    "    elif direction == 'South':\n",
    "        color = 'red'\n",
    "    elif direction == 'West':\n",
    "        color = 'green'\n",
    "    elif direction == 'Clockwis':\n",
    "        color = 'white'\n",
    "    elif direction == 'Xcounter':\n",
    "        color = 'purple'\n",
    "    else:\n",
    "        color = 'pink'\n",
    "    \n",
    "    return color"
   ]
  },
  {
   "cell_type": "code",
   "execution_count": null,
   "metadata": {},
   "outputs": [],
   "source": [
    "def plot_bus(lat, lon, color, m):\n",
    "    folium.CircleMarker(location = (lat, lon),\n",
    "                        radius = 2,\n",
    "                        fill = False,\n",
    "                        weight = 1,\n",
    "                        color = color\n",
    "                       ).add_to(m)"
   ]
  },
  {
   "cell_type": "code",
   "execution_count": null,
   "metadata": {},
   "outputs": [],
   "source": [
    "def map_to_png(bus_temp_df, direction, day):\n",
    "    dirPath = '../Images/Bus ' + day + ' ' + direction # + '/' + str(image_no) + '.png' #change day here\n",
    "    print(dirPath)\n",
    "    if not os.path.isdir(dirPath):\n",
    "        print('The directory is not present. Creating a new one..')\n",
    "        os.mkdir(dirPath)\n",
    "    else:\n",
    "        print('The directory is present.')\n",
    "    \n",
    "    all_directions = False\n",
    "    if direction == \"All\":\n",
    "        all_directions == True\n",
    "    bus_map = create_LA_map()\n",
    "    curr_time = bus_temp_df['grouped time'].iloc[0]\n",
    "    image_no = 1\n",
    "    total_count = 0\n",
    "    subset_count = 0\n",
    "\n",
    "    for index, bus in bus_temp_df.iterrows():\n",
    "        total_count += 1\n",
    "        if all_directions == True:\n",
    "            color = pick_color(bus[\"direction\"])\n",
    "        else:\n",
    "            if bus[\"direction\"] == direction:\n",
    "                subset_count += 1\n",
    "                color = pick_color(bus[\"direction\"])\n",
    "            else:\n",
    "                color = 'gray'\n",
    "        if curr_time == bus[\"grouped time\"]:\n",
    "            plot_bus(bus[\"latitude\"], bus[\"longitude\"], color, bus_map)\n",
    "\n",
    "        else:\n",
    "            img_data = bus_map._to_png()\n",
    "            img = Image.open(io.BytesIO(img_data))\n",
    "            draw = ImageDraw.ImageDraw(img)\n",
    "            font = ImageFont.truetype(\"../Roboto/Roboto-Light.ttf\", 30)\n",
    "            draw.text((20,img.height - 50), \n",
    "                      str(curr_time),\n",
    "                      fill=(255, 255, 255),\n",
    "                      font = font)\n",
    "            draw.text((img.width - 400,20),\n",
    "                       \"Total: \" + str(total_count) + '\\n' + \"Subset: \" + str(subset_count),\n",
    "                       fill = (255, 255, 255),\n",
    "                      font = font)\n",
    "            name = dirPath + '/' + str(image_no) + '.png' #change day here\n",
    "            img.save(name)\n",
    "            image_no += 1\n",
    "            #break\n",
    "            #reset the map\n",
    "            bus_map = create_LA_map()\n",
    "            #change the time\n",
    "            curr_time = bus[\"grouped time\"]\n",
    "            #plot\n",
    "            total_count = 1\n",
    "            subset_count = 0\n",
    "            if bus[\"direction\"] == direction:\n",
    "                subset_count += 1\n",
    "                color = pick_color(bus[\"direction\"])\n",
    "            else:\n",
    "                color = 'gray'\n",
    "            plot_bus(bus[\"latitude\"], bus[\"longitude\"], color, bus_map)\n",
    "    #print(count)\n",
    "    return bus_map"
   ]
  },
  {
   "cell_type": "code",
   "execution_count": null,
   "metadata": {},
   "outputs": [],
   "source": [
    "direction = \"South\" #Change this value\n",
    "day = \"Friday\"\n",
    "bus_map = map_to_png(bus_friday_df, direction, day)\n",
    "bus_map"
   ]
  },
  {
   "cell_type": "markdown",
   "metadata": {},
   "source": [
    "We will now convert all of the images to a gif"
   ]
  },
  {
   "cell_type": "code",
   "execution_count": null,
   "metadata": {},
   "outputs": [],
   "source": [
    "# filepaths\n",
    "fp_in = \"../Images/Bus \" + day + ' ' + direction + \"/*.png\"\n",
    "fp_out = \"../Animations/Bus \" + day + ' ' + direction + \" Animation.gif\"\n",
    "\n",
    "# https://pillow.readthedocs.io/en/stable/handbook/image-file-formats.html#gif\n",
    "img, *imgs = [Image.open(f) for f in natsorted(glob.glob(fp_in))]\n",
    "img.save(fp=fp_out, format='GIF', append_images=imgs,\n",
    "         save_all=True, duration=500, loop=0)"
   ]
  },
  {
   "cell_type": "code",
   "execution_count": null,
   "metadata": {},
   "outputs": [],
   "source": [
    "# count = 1;\n",
    "# for index, bus in bus_temp_df.iterrows():\n",
    "#     color = pick_color_num(count)\n",
    "#     bus_map = map_to_png(bus_temp_df, direction, day)\n",
    "#     bus_map"
   ]
  },
  {
   "cell_type": "code",
   "execution_count": null,
   "metadata": {},
   "outputs": [],
   "source": [
    "# pop_routes = [\"51\", \"16\", \"720\", \"18\", \"28\"]\n",
    "# bus_friday_df['route'] = bus_friday_df['route'].astype(str)\n",
    "\n",
    "# top_5_index = bus_friday_df[bus_friday_df['route'] != pop_routes[0] | \n",
    "#                             bus_friday_df['route'] != pop_routes[1] |\n",
    "#                             bus_friday_df['route'] != pop_routes[2] |\n",
    "#                             bus_friday_df['route'] != pop_routes[3] |\n",
    "#                             bus_friday_df['route'] != pop_routes[4]\n",
    "#                            ].index\n",
    "# len(top_5_index)"
   ]
  },
  {
   "cell_type": "markdown",
   "metadata": {},
   "source": [
    "## Part 2: Heatmaps"
   ]
  },
  {
   "cell_type": "markdown",
   "metadata": {},
   "source": [
    "Although the animation is neat, the data obtained had long intervals sets (around 3 minutes). Thus, the gif was not very smooth. So, let's try heat maps instead."
   ]
  },
  {
   "cell_type": "code",
   "execution_count": null,
   "metadata": {},
   "outputs": [],
   "source": [
    "la_map = create_LA_map()\n",
    "heat_data = [[row['latitude'],row['longitude']] for index, row in bus_friday_df.iterrows()]\n",
    "HeatMap(heat_data).add_to(la_map)\n",
    "la_map"
   ]
  },
  {
   "cell_type": "markdown",
   "metadata": {},
   "source": [
    "There is so much information that it is mostly red. So, let's tone down the radius and look at specific hours."
   ]
  },
  {
   "cell_type": "code",
   "execution_count": null,
   "metadata": {},
   "outputs": [],
   "source": [
    "def create_heat_map(complete_df, hour):\n",
    "    df = complete_df.copy()\n",
    "    la_map = folium.Map(location=[34.0522,-118.2437],\n",
    "                                       zoom_start=10,\n",
    "                                       tiles='CartoDB dark_matter')\n",
    "    df.drop(df[df[\"hour\"] != hour].index, inplace = True)\n",
    "    heat_data = [[row['latitude'],row['longitude']] for index, row in df.iterrows()]\n",
    "    HeatMap(heat_data, radius=15).add_to(la_map)\n",
    "    return la_map"
   ]
  },
  {
   "cell_type": "code",
   "execution_count": null,
   "metadata": {},
   "outputs": [],
   "source": [
    "create_heat_map(bus_friday_df, 9)"
   ]
  },
  {
   "cell_type": "code",
   "execution_count": null,
   "metadata": {},
   "outputs": [],
   "source": [
    "create_heat_map(bus_friday_df, 11)"
   ]
  },
  {
   "cell_type": "code",
   "execution_count": null,
   "metadata": {},
   "outputs": [],
   "source": [
    "create_heat_map(bus_friday_df, 15)"
   ]
  },
  {
   "cell_type": "code",
   "execution_count": null,
   "metadata": {},
   "outputs": [],
   "source": [
    "create_heat_map(bus_friday_df, 17)"
   ]
  },
  {
   "cell_type": "markdown",
   "metadata": {},
   "source": [
    "## Part 3: Time Lapse Heatmap"
   ]
  },
  {
   "cell_type": "markdown",
   "metadata": {},
   "source": [
    "Here I will animate the heatmap for Friday (an ordinary day in LA)"
   ]
  },
  {
   "cell_type": "code",
   "execution_count": null,
   "metadata": {},
   "outputs": [],
   "source": [
    "def timed_heatmap(day):\n",
    "    template_df = pd.DataFrame(columns = ['latitude', 'longitude'])\n",
    "    heat_map_df = template_df\n",
    "\n",
    "    image_no = 1\n",
    "    total_count = 0\n",
    "\n",
    "    curr_time = bus_friday_df['grouped time'].iloc[0]\n",
    "    image_no = 1\n",
    "    for index, bus in bus_friday_df.iterrows():\n",
    "        if curr_time == bus['grouped time']:\n",
    "            total_count += 1\n",
    "            new_bus = {\n",
    "                   'latitude' : bus['latitude'],\n",
    "                   'longitude' : bus['longitude']\n",
    "            }\n",
    "            heat_map_df = heat_map_df.append(new_bus, ignore_index=True)\n",
    "        else:\n",
    "            print(\"cool\")\n",
    "            bus_map = create_LA_map()\n",
    "            heat_data = [[row['latitude'],row['longitude']] for index, row in heat_map_df.iterrows()]\n",
    "            HeatMap(heat_data, radius=15).add_to(bus_map)\n",
    "            img_data = bus_map._to_png()\n",
    "            img = Image.open(io.BytesIO(img_data))\n",
    "            draw = ImageDraw.ImageDraw(img)\n",
    "            font = ImageFont.truetype(\"../Roboto/Roboto-Light.ttf\", 30)\n",
    "            draw.text((20,img.height - 50), \n",
    "                      str(curr_time),\n",
    "                      fill=(255, 255, 255),\n",
    "                      font = font)\n",
    "            draw.text((img.width - 400,20),\n",
    "                       \"Total: \" + str(total_count),\n",
    "                       fill = (255, 255, 255),\n",
    "                      font = font)\n",
    "            name = '../Images/Friday Heat Map/' + str(image_no) + '.png' #change day here\n",
    "            img.save(name)\n",
    "            image_no += 1\n",
    "            total_count = 1\n",
    "            curr_time = bus[\"grouped time\"]\n",
    "            heat_map_df = template_df\n",
    "            "
   ]
  },
  {
   "cell_type": "code",
   "execution_count": null,
   "metadata": {},
   "outputs": [],
   "source": [
    "timed_heatmap(\"Friday\")"
   ]
  },
  {
   "cell_type": "code",
   "execution_count": null,
   "metadata": {},
   "outputs": [],
   "source": [
    "# filepaths\n",
    "fp_in = \"../Images/Friday Heat Map/*.png\"\n",
    "fp_out = \"../Animations/Friday Heat Map.gif\"\n",
    "\n",
    "# https://pillow.readthedocs.io/en/stable/handbook/image-file-formats.html#gif\n",
    "img, *imgs = [Image.open(f) for f in natsorted(glob.glob(fp_in))]\n",
    "img.save(fp=fp_out, format='GIF', append_images=imgs,\n",
    "         save_all=True, duration=500, loop=0)"
   ]
  },
  {
   "cell_type": "markdown",
   "metadata": {},
   "source": [
    "If you open the gif in the animations folder you will see that Downtown is the most red. To be honest I was surprised at how impacted DTLA was. This exemplifies DTLA's importance to the city of LA and LA county."
   ]
  }
 ],
 "metadata": {
  "kernelspec": {
   "display_name": "Python 3",
   "language": "python",
   "name": "python3"
  },
  "language_info": {
   "codemirror_mode": {
    "name": "ipython",
    "version": 3
   },
   "file_extension": ".py",
   "mimetype": "text/x-python",
   "name": "python",
   "nbconvert_exporter": "python",
   "pygments_lexer": "ipython3",
   "version": "3.8.5"
  }
 },
 "nbformat": 4,
 "nbformat_minor": 4
}
